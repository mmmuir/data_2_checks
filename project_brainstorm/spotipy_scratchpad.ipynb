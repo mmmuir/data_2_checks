{
 "cells": [
  {
   "cell_type": "code",
   "execution_count": null,
   "metadata": {},
   "outputs": [],
   "source": [
    "import spotipy\n",
    "from spotipy.oauth2 import SpotifyClientCredentials\n",
    "cid = '76c42909213b45a4a22596b35328705f'\n",
    "secret = '9229ae6311b54925ad2f62ad4e32ccf6'\n",
    "username = 'nshsunmalb8t3brxxz0ks3e47'\n",
    "birdy_uri = 'spotify:album:57EkTny9UjqpLhFzMO4Hdb'\n",
    "spotify = spotipy.Spotify(client_credentials_manager=SpotifyClientCredentials(client_id=cid, client_secret=secret))\n",
    "results = spotify.album_tracks(birdy_uri)\n",
    "tracks = results['items']\n",
    "while results['next']:\n",
    "    results = spotify.next(results)\n",
    "    tracks.extend(results['items'])\n",
    "\n",
    "for track in tracks:\n",
    "    print(track['name'])"
   ]
  },
  {
   "cell_type": "code",
   "execution_count": null,
   "metadata": {},
   "outputs": [],
   "source": [
    "tracks"
   ]
  },
  {
   "cell_type": "code",
   "execution_count": null,
   "metadata": {},
   "outputs": [],
   "source": [
    "# Pick out ID and title of track from album\n",
    "print(tracks[0]['id'] + ' ' + tracks[0]['name'])"
   ]
  },
  {
   "cell_type": "code",
   "execution_count": null,
   "metadata": {},
   "outputs": [],
   "source": [
    "my_track = tracks[0]['id']"
   ]
  },
  {
   "cell_type": "code",
   "execution_count": null,
   "metadata": {},
   "outputs": [],
   "source": [
    "# Get audio features\n",
    "features = spotify.audio_features(tracks=[my_track])"
   ]
  },
  {
   "cell_type": "code",
   "execution_count": null,
   "metadata": {},
   "outputs": [],
   "source": [
    "features"
   ]
  },
  {
   "cell_type": "code",
   "execution_count": null,
   "metadata": {},
   "outputs": [],
   "source": [
    "# Select specific feature\n",
    "features[0]['key']"
   ]
  },
  {
   "cell_type": "code",
   "execution_count": null,
   "metadata": {},
   "outputs": [],
   "source": [
    "dict = {'-1': 'no key', '0': 'c', '1': 'c#'}\n",
    "dict['-1']"
   ]
  },
  {
   "cell_type": "code",
   "execution_count": null,
   "metadata": {},
   "outputs": [],
   "source": [
    "all_keys = []\n",
    "int_to_key = {'-1': 'no key detected', '0': 'C', '1': 'C#', '2': 'D', '3': 'D#', '4': 'E',\n",
    "              '5': 'E#', '6': 'F', '7': 'F#', '8': 'G', '9': 'G#', '10': 'A', '11': 'A#', '12':  'B'}\n",
    "counter = 0\n",
    "for track in tracks:\n",
    "    track_id = tracks[counter]['id']\n",
    "    track_name = tracks[counter]['name']\n",
    "    track_features = spotify.audio_features(tracks=[track_id])\n",
    "    print(track_name + ' ' + int_to_key[str((track_features[0]['key']))])\n",
    "    # Select key from audio features, map to key signature dictionary.\n",
    "    # print(tracks[counter]['name'] + ' ' +spotify.audio_features(tracks=[tracks[counter]['id']]))\n",
    "    counter += 1\n"
   ]
  },
  {
   "cell_type": "code",
   "execution_count": null,
   "metadata": {},
   "outputs": [],
   "source": [
    "import pandas as pd\n",
    "from pprint import pprint\n"
   ]
  },
  {
   "cell_type": "code",
   "execution_count": null,
   "metadata": {},
   "outputs": [],
   "source": [
    "playlist_uri = 'spotify:playlist:5FvPpjkjaFy5AVrAd5OeND'"
   ]
  },
  {
   "cell_type": "code",
   "execution_count": null,
   "metadata": {},
   "outputs": [],
   "source": [
    "temp_playlist = spotify.playlist_tracks(playlist_uri)\n"
   ]
  },
  {
   "cell_type": "code",
   "execution_count": null,
   "metadata": {},
   "outputs": [],
   "source": [
    "get_playlist = spotify.playlist(playlist_uri)"
   ]
  },
  {
   "cell_type": "code",
   "execution_count": null,
   "metadata": {},
   "outputs": [],
   "source": [
    "temp_playlist"
   ]
  },
  {
   "cell_type": "code",
   "execution_count": null,
   "metadata": {},
   "outputs": [],
   "source": [
    "get_playlist"
   ]
  },
  {
   "cell_type": "code",
   "execution_count": null,
   "metadata": {},
   "outputs": [],
   "source": [
    "pd.DataFrame(temp_playlist['tracks']['items'])"
   ]
  },
  {
   "cell_type": "code",
   "execution_count": null,
   "metadata": {},
   "outputs": [],
   "source": [
    "offset = 0\n",
    "jibjob = []\n",
    "\n",
    "while True:\n",
    "    response = spotify.playlist_items(playlist_uri,\n",
    "                                offset=offset,\n",
    "                                fields='items.track.id,items.track.artists,items.track.name,total',\n",
    "                                additional_types=['track'])\n",
    "    \n",
    "    if len(response['items']) == 0:\n",
    "        # Combine inner lists and exit loop\n",
    "        jibjob = [j for i in jibjob for j in i]\n",
    "        break\n",
    "    \n",
    "    jibjob.append(response['items'])\n",
    "    offset = offset + len(response['items'])\n",
    "    print(offset, \"/\", response['total'])"
   ]
  },
  {
   "cell_type": "code",
   "execution_count": null,
   "metadata": {},
   "outputs": [],
   "source": [
    "jibjob #= jibjob[0] + jibjob[1] + jibjob[2]"
   ]
  },
  {
   "cell_type": "code",
   "execution_count": null,
   "metadata": {},
   "outputs": [],
   "source": [
    "len(jibjob)"
   ]
  },
  {
   "cell_type": "code",
   "execution_count": null,
   "metadata": {},
   "outputs": [],
   "source": [
    "for i in range(len(jibjob[0])):\n",
    "    print(i)"
   ]
  },
  {
   "cell_type": "code",
   "execution_count": null,
   "metadata": {},
   "outputs": [],
   "source": [
    "\n",
    "jibjob[8]['track']['artists'][0]['name']"
   ]
  },
  {
   "cell_type": "code",
   "execution_count": null,
   "metadata": {},
   "outputs": [],
   "source": [
    "jibjob[0]['track']['id']"
   ]
  },
  {
   "cell_type": "code",
   "execution_count": null,
   "metadata": {},
   "outputs": [],
   "source": [
    "jibjob[0]['track']['name']"
   ]
  },
  {
   "cell_type": "code",
   "execution_count": null,
   "metadata": {},
   "outputs": [],
   "source": [
    "songs = get_playlist['tracks']['items']\n",
    "ids = []\n",
    "for i in range(len(songs)):\n",
    "    ids.append(songs[i]['track']['id'])\n",
    "features = spotify.audio_features(ids)"
   ]
  },
  {
   "cell_type": "code",
   "execution_count": null,
   "metadata": {},
   "outputs": [],
   "source": [
    "len(features)"
   ]
  },
  {
   "cell_type": "code",
   "execution_count": null,
   "metadata": {},
   "outputs": [],
   "source": [
    "features"
   ]
  },
  {
   "cell_type": "code",
   "execution_count": null,
   "metadata": {},
   "outputs": [],
   "source": [
    "# get_playlist['tracks']['items'][1]['track']['artists'][0]['name']"
   ]
  },
  {
   "cell_type": "code",
   "execution_count": null,
   "metadata": {},
   "outputs": [],
   "source": [
    "df = pd.DataFrame(features)"
   ]
  },
  {
   "cell_type": "code",
   "execution_count": null,
   "metadata": {},
   "outputs": [],
   "source": [
    "df"
   ]
  },
  {
   "cell_type": "code",
   "execution_count": null,
   "metadata": {},
   "outputs": [],
   "source": [
    "query1 = spotify.tracks(ids[:50])\n",
    "query2 = spotify.tracks(ids[50:])"
   ]
  },
  {
   "cell_type": "code",
   "execution_count": null,
   "metadata": {},
   "outputs": [],
   "source": [
    "track_name_query = query1.update(query2)"
   ]
  },
  {
   "cell_type": "code",
   "execution_count": null,
   "metadata": {},
   "outputs": [],
   "source": [
    "# track_name_query['tracks'][0]['artists'][0]['name']\n",
    "# df['track_name'][i] = track_name_query['tracks'][i]['name']\n",
    "#      df['track_name'][i] = track_name_query['tracks'][i]['name']"
   ]
  },
  {
   "cell_type": "code",
   "execution_count": null,
   "metadata": {},
   "outputs": [],
   "source": [
    "df['artist_name'] = {}"
   ]
  },
  {
   "cell_type": "code",
   "execution_count": null,
   "metadata": {},
   "outputs": [],
   "source": [
    "for i in range(len(track_name_query['tracks'])):\n",
    "    df['track_name'][i] = track_name_query['tracks'][i]['name']\n",
    "    df['artist_name'][i] = track_name_query['tracks'][i]['artists'][0]['name']\n"
   ]
  },
  {
   "cell_type": "code",
   "execution_count": null,
   "metadata": {},
   "outputs": [],
   "source": [
    "df"
   ]
  },
  {
   "cell_type": "code",
   "execution_count": null,
   "metadata": {},
   "outputs": [],
   "source": [
    "track_name_query['tracks'][0]['id']"
   ]
  },
  {
   "cell_type": "code",
   "execution_count": null,
   "metadata": {},
   "outputs": [],
   "source": [
    "get_playlist"
   ]
  },
  {
   "cell_type": "code",
   "execution_count": null,
   "metadata": {},
   "outputs": [],
   "source": [
    "full_playlist['items']"
   ]
  },
  {
   "cell_type": "code",
   "execution_count": null,
   "metadata": {},
   "outputs": [],
   "source": [
    "current_playlist_section"
   ]
  },
  {
   "cell_type": "code",
   "execution_count": null,
   "metadata": {},
   "outputs": [],
   "source": [
    "songs"
   ]
  }
 ],
 "metadata": {
  "kernelspec": {
   "display_name": "Python 3.10.0 ('evic')",
   "language": "python",
   "name": "python3"
  },
  "language_info": {
   "codemirror_mode": {
    "name": "ipython",
    "version": 3
   },
   "file_extension": ".py",
   "mimetype": "text/x-python",
   "name": "python",
   "nbconvert_exporter": "python",
   "pygments_lexer": "ipython3",
   "version": "3.10.0 (default, Jun 19 2022, 15:30:12) [GCC 10.2.1 20210110]"
  },
  "orig_nbformat": 4,
  "vscode": {
   "interpreter": {
    "hash": "136c9074e6897182c726d15e696764f76abda4b0295aa5f6561daa3f0fb5ad5c"
   }
  }
 },
 "nbformat": 4,
 "nbformat_minor": 2
}
